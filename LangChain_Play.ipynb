{
  "nbformat": 4,
  "nbformat_minor": 0,
  "metadata": {
    "colab": {
      "provenance": [],
      "gpuType": "T4",
      "authorship_tag": "ABX9TyPGjm86TdYkLblodaS9/4rC",
      "include_colab_link": true
    },
    "kernelspec": {
      "name": "python3",
      "display_name": "Python 3"
    },
    "language_info": {
      "name": "python"
    },
    "accelerator": "GPU",
    "gpuClass": "standard"
  },
  "cells": [
    {
      "cell_type": "markdown",
      "metadata": {
        "id": "view-in-github",
        "colab_type": "text"
      },
      "source": [
        "<a href=\"https://colab.research.google.com/github/alinealinealine/LangChain_Experiments/blob/main/LangChain_Play.ipynb\" target=\"_parent\"><img src=\"https://colab.research.google.com/assets/colab-badge.svg\" alt=\"Open In Colab\"/></a>"
      ]
    },
    {
      "cell_type": "markdown",
      "source": [
        "# LangChain Play\n",
        "\n",
        "* Youtube/Podcast content summarizing\n",
        "* Read in pdf/word article\n",
        "* Play with external text data to test langchain pipeline, especially use long memory and agent. \n",
        "\n",
        "Some resource: \n",
        "* [LangChain example](https://medium.com/towards-data-science/getting-started-with-langchain-a-beginners-guide-to-building-llm-powered-applications-95fc8898732c)\n",
        "* [LangChain instruction](https://python.langchain.com/en/latest/index.html)\n",
        "\n",
        "Deliverable: \n",
        "* [Documentation]: world bank data lab"
      ],
      "metadata": {
        "id": "wJYeAp8r9df9"
      }
    },
    {
      "cell_type": "markdown",
      "source": [
        "Environment Set Up"
      ],
      "metadata": {
        "id": "mGZGxcQ3-57d"
      }
    },
    {
      "cell_type": "code",
      "source": [
        " !pip install langchain\n",
        " !pip install openai\n",
        " !pip install huggingface_hub"
      ],
      "metadata": {
        "id": "QNIytRVf-5XP"
      },
      "execution_count": null,
      "outputs": []
    },
    {
      "cell_type": "code",
      "source": [
        "import langchain\n",
        "import os"
      ],
      "metadata": {
        "id": "nBgMiUOw_S-a"
      },
      "execution_count": null,
      "outputs": []
    },
    {
      "cell_type": "code",
      "source": [
        "openai.api_key_path = \"./openai_api.txt\" \n",
        "os.environ[\"HUGGINGFACEHUB_API_TOKEN\"] = \"./huggingface_api.txt\""
      ],
      "metadata": {
        "id": "iy29zmkuSqVF"
      },
      "execution_count": null,
      "outputs": []
    },
    {
      "cell_type": "code",
      "source": [
        "# Proprietary LLM from e.g. OpenAI\n",
        "from langchain.llms import OpenAI\n",
        "llm = OpenAI(model_name=\"text-davinci-003\")\n",
        "\n",
        "# Alternatively, open-source LLM hosted on Hugging Face\n",
        "# from langchain import HuggingFaceHub\n",
        "# llm = HuggingFaceHub(repo_id = \"google/flan-t5-xl\")\n"
      ],
      "metadata": {
        "id": "gW1fWVH-_24N"
      },
      "execution_count": null,
      "outputs": []
    },
    {
      "cell_type": "markdown",
      "source": [
        "## Youtube transcript"
      ],
      "metadata": {
        "id": "axJZ4smQAMFZ"
      }
    },
    {
      "cell_type": "code",
      "source": [
        " !pip install youtube-transcript-api\n",
        " !pip install pytube"
      ],
      "metadata": {
        "id": "hbxXZdUpAPQm"
      },
      "execution_count": null,
      "outputs": []
    },
    {
      "cell_type": "code",
      "source": [
        "from langchain.document_loaders import YoutubeLoader\n",
        "\n",
        "loader = YoutubeLoader.from_youtube_url(\"https://www.youtube.com/watch?v=6nLZwIwDm5E\")\n",
        "    \n",
        "documents = loader.load()\n",
        "display(documents)"
      ],
      "metadata": {
        "id": "rTdpCtdkEtco"
      },
      "execution_count": null,
      "outputs": []
    },
    {
      "cell_type": "code",
      "source": [
        "# Proprietary text embedding model from e.g. OpenAI\n",
        "# !pip install tiktoken\n",
        "from langchain.embeddings import OpenAIEmbeddings\n",
        "embeddings = OpenAIEmbeddings()"
      ],
      "metadata": {
        "id": "8z2wtYQZE6tH"
      },
      "execution_count": null,
      "outputs": []
    },
    {
      "cell_type": "code",
      "source": [
        "!pip install faiss-cpu\n",
        "from langchain.vectorstores import FAISS\n",
        "\n",
        "# create the vectorestore to use as the index\n",
        "db = FAISS.from_documents(documents, embeddings)\n",
        "\n",
        "#? why do I need to convert it to index?"
      ],
      "metadata": {
        "id": "cEzu4FyYCXL7"
      },
      "execution_count": null,
      "outputs": []
    },
    {
      "cell_type": "code",
      "source": [
        "from langchain.chains import RetrievalQA\n",
        "\n",
        "retriever = db.as_retriever()\n",
        "\n",
        "qa = RetrievalQA.from_chain_type(\n",
        "    llm=llm, \n",
        "    chain_type=\"stuff\", \n",
        "    retriever=retriever, \n",
        "    return_source_documents=True)\n",
        "\n",
        "query = \"What is morden slavery? What are the actions young people can take to avoid this? Please elaborate above in around 500 words\"\n",
        "result = qa({\"query\": query})\n",
        "\n",
        "print(result['result'])"
      ],
      "metadata": {
        "colab": {
          "base_uri": "https://localhost:8080/"
        },
        "id": "iXeg3hikF9Et",
        "outputId": "f3df9b05-06e3-41f0-ed9e-b1090b31fe00"
      },
      "execution_count": null,
      "outputs": [
        {
          "output_type": "stream",
          "name": "stdout",
          "text": [
            " Modern slavery is a form of wage slavery, where people are required to work according to someone else's schedule, with little to no choice in terms of when they work or how much they get paid. It is often associated with people working in low-wage jobs where they are paid very little and have few other options. To avoid modern slavery, young people can focus on developing specific knowledge, taking on accountability, and leveraging their skills. \n",
            "\n",
            "Developing specific knowledge means gaining knowledge that is not easily acquired through training or education. It can include learning about artificial intelligence, cryptocurrency, sales, entertainment, or any other field that you have a genuine interest in and can become an expert in. This knowledge can be acquired through reading, engaging in activities you enjoy, and cultivating your intellectual obsessions. \n",
            "\n",
            "Once you have a specific knowledge base, you can take on accountability by putting your name on things and taking risks. This includes starting your own eponymous company or creating your own brand. It may be intimidating to put your name out there, but doing so is essential if you want to be paid what you are worth. \n",
            "\n",
            "Finally, you need to leverage what you know by employing all forms of leverage, including labor, capital, and product. Labor leverage\n"
          ]
        }
      ]
    }
  ]
}